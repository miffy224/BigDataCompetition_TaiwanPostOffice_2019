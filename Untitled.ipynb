{
 "cells": [
  {
   "cell_type": "code",
   "execution_count": 1,
   "metadata": {},
   "outputs": [],
   "source": [
    "fruit = \"香蕉\""
   ]
  },
  {
   "cell_type": "code",
   "execution_count": 2,
   "metadata": {},
   "outputs": [],
   "source": [
    "del fruit"
   ]
  },
  {
   "cell_type": "code",
   "execution_count": 3,
   "metadata": {},
   "outputs": [
    {
     "name": "stdout",
     "output_type": "stream",
     "text": [
      "100&200&300--"
     ]
    }
   ],
   "source": [
    "print(100, 200, 300, sep=\"&\", end=\"--\")"
   ]
  },
  {
   "cell_type": "code",
   "execution_count": 4,
   "metadata": {},
   "outputs": [
    {
     "name": "stdout",
     "output_type": "stream",
     "text": [
      "兄弟象 總冠軍\n"
     ]
    }
   ],
   "source": [
    "print(\"%s 總冠軍\" % (\"兄弟象\"))"
   ]
  },
  {
   "cell_type": "code",
   "execution_count": 5,
   "metadata": {},
   "outputs": [
    {
     "name": "stdout",
     "output_type": "stream",
     "text": [
      "兄弟象 贏的機率為    99.90% \n"
     ]
    }
   ],
   "source": [
    "print(\"%s 贏的機率為 %8.2f%s \" % (\"兄弟象\",99.9,\"%\")) #(8代表固定輸出8個字元(含小數點))"
   ]
  },
  {
   "cell_type": "code",
   "execution_count": 6,
   "metadata": {},
   "outputs": [
    {
     "name": "stdout",
     "output_type": "stream",
     "text": [
      "鐵人賽2018年的參加隊伍為浪流連九程式匠自然產生的佛系碼農專區\n"
     ]
    }
   ],
   "source": [
    "print(\"{}{}年的參加隊伍為{}\".format(\"鐵人賽\",2018,\"浪流連九程式匠自然產生的佛系碼農專區\"))"
   ]
  },
  {
   "cell_type": "code",
   "execution_count": 7,
   "metadata": {},
   "outputs": [
    {
     "data": {
      "text/plain": [
       "'world hello world'"
      ]
     },
     "execution_count": 7,
     "metadata": {},
     "output_type": "execute_result"
    }
   ],
   "source": [
    "\"{1} {0} {1}\".format(\"hello\", \"world\") \n"
   ]
  },
  {
   "cell_type": "code",
   "execution_count": 20,
   "metadata": {},
   "outputs": [
    {
     "name": "stdout",
     "output_type": "stream",
     "text": [
      "請輸入2018中華職棒總冠軍?浪流連九程式匠自然產生的佛系碼\n"
     ]
    }
   ],
   "source": [
    "winner = input(\"請輸入2018中華職棒總冠軍?\")"
   ]
  },
  {
   "cell_type": "code",
   "execution_count": null,
   "metadata": {},
   "outputs": [],
   "source": [
    "print(\"{}\".format(winner))"
   ]
  },
  {
   "cell_type": "code",
   "execution_count": null,
   "metadata": {},
   "outputs": [],
   "source": [
    "7**2 "
   ]
  },
  {
   "cell_type": "code",
   "execution_count": null,
   "metadata": {},
   "outputs": [],
   "source": [
    "1!=0"
   ]
  },
  {
   "cell_type": "code",
   "execution_count": 19,
   "metadata": {},
   "outputs": [
    {
     "name": "stdout",
     "output_type": "stream",
     "text": [
      "請輸入2018鐵人賽參加隊伍是否有「浪流連九程式匠自然產生的佛系碼農專區」，請輸入是Yes or No?Yes\n",
      "恭喜你答對了!!\n"
     ]
    }
   ],
   "source": [
    "winner = input(\"請輸入2018鐵人賽參加隊伍是否有「浪流連九程式匠自然產生的佛系碼農專區」，請輸入是Yes or No?\")\n",
    "if(winner==\"Yes\"):\n",
    "    print(\"恭喜你答對了!!\")\n",
    "else:\n",
    "  print(\"不好意思你答錯了~><~\")"
   ]
  },
  {
   "cell_type": "code",
   "execution_count": 1,
   "metadata": {},
   "outputs": [
    {
     "name": "stdout",
     "output_type": "stream",
     "text": [
      "請「浪流連九程式匠自然產生的佛系碼農專區」有幾人參加?7\n",
      "已經非常接近了\n"
     ]
    }
   ],
   "source": [
    "score = int(input(\"請「浪流連九程式匠自然產生的佛系碼農專區」有幾人參加?\"))\n",
    "if(score>=3):\n",
    "    if(score==9):\n",
    "     print(\"沒錯!!剛好就是9人\")\n",
    "    elif(score>=7):\n",
    "     print(\"已經非常接近了\")\n",
    "    else:\n",
    "     print(\"不好意思，離正確答案還有一段距離\")\n",
    "else:\n",
    " print(\"沒有這麼少人喔\")"
   ]
  },
  {
   "cell_type": "code",
   "execution_count": 2,
   "metadata": {},
   "outputs": [
    {
     "name": "stdout",
     "output_type": "stream",
     "text": [
      "總冠軍隊伍 中信兄弟\n",
      "亞軍隊伍 lamigo\n"
     ]
    }
   ],
   "source": [
    "ironman_list = [\"中信兄弟\", \"統一獅\", \"lamigo\", \"富邦悍將\"]\n",
    "print('總冠軍隊伍', ironman_list[0]) \n",
    "print('亞軍隊伍', ironman_list[-2])"
   ]
  },
  {
   "cell_type": "code",
   "execution_count": 9,
   "metadata": {},
   "outputs": [
    {
     "name": "stdout",
     "output_type": "stream",
     "text": [
      "亞軍隊伍 富邦悍將\n"
     ]
    }
   ],
   "source": [
    "print('亞軍隊伍', ironman_list[-1])"
   ]
  },
  {
   "cell_type": "code",
   "execution_count": 16,
   "metadata": {},
   "outputs": [
    {
     "name": "stdout",
     "output_type": "stream",
     "text": [
      "[0, 1, 2, 3, 4, 5, 6, 7, 8, 9]\n",
      "[4, 5, 6, 7]\n",
      "[3, 6]\n"
     ]
    }
   ],
   "source": [
    "ironman_list1 = range(10)\n",
    "ironman_list2 = range(4,8)\n",
    "ironman_list3 = range(3,8,3) \n",
    "\n",
    "#語法: range(起始值 [,終止值, 間格值])\n",
    "print(list(ironman_list1))\n",
    "print(list(ironman_list2))\n",
    "print(list(ironman_list3))"
   ]
  },
  {
   "cell_type": "code",
   "execution_count": 19,
   "metadata": {},
   "outputs": [
    {
     "name": "stdout",
     "output_type": "stream",
     "text": [
      "[3, 6, 3, 6]\n"
     ]
    }
   ],
   "source": [
    "ironman_list1 = list(ironman_list1)\n",
    "ironman_list2 = ironman_list1*2\n",
    "print(ironman_list2)"
   ]
  },
  {
   "cell_type": "code",
   "execution_count": 22,
   "metadata": {},
   "outputs": [
    {
     "name": "stdout",
     "output_type": "stream",
     "text": [
      "[3, 4, 5]\n"
     ]
    }
   ],
   "source": [
    "ironman_list1 = [1,2,3,4,5,6]\n",
    "print(list(ironman_list1[2:5]))\n",
    "#語法：[n,m] 取出index n~(m-1)的元素"
   ]
  },
  {
   "cell_type": "code",
   "execution_count": 23,
   "metadata": {},
   "outputs": [
    {
     "name": "stdout",
     "output_type": "stream",
     "text": [
      "[2, 4]\n"
     ]
    }
   ],
   "source": [
    "ironman_list1 = [1,2,3,4,5,6]\n",
    "print(list(ironman_list1[1:4:2]))\n",
    "語法：[n:m:o] 取出index n~(m-1)的元素，間隔為o"
   ]
  },
  {
   "cell_type": "code",
   "execution_count": 27,
   "metadata": {},
   "outputs": [
    {
     "name": "stdout",
     "output_type": "stream",
     "text": [
      "[1, 5, 6]\n"
     ]
    }
   ],
   "source": [
    "ironman_list1 = [1,2,3,4,5,6]\n",
    "del ironman_list1[1:4]\n",
    "print(list(ironman_list1))\n",
    "#語法：del 以下示範用切片的方式刪除元素"
   ]
  },
  {
   "cell_type": "code",
   "execution_count": 28,
   "metadata": {},
   "outputs": [
    {
     "name": "stdout",
     "output_type": "stream",
     "text": [
      "將8做為元素加在list最後----> [1, 2, 3, 4, 5, 6, 8]\n",
      "將[8,9]中的元素加在list最後----> [1, 2, 3, 4, 5, 6, 8, 9]\n",
      "在index 3的位置加入元素8----> [1, 2, 3, 8, 4, 5, 6]\n"
     ]
    }
   ],
   "source": [
    "ironman_list1 = [1,2,3,4,5,6]\n",
    "ironman_list1.append(8)\n",
    "print('將8做為元素加在list最後---->',list(ironman_list1))\n",
    "ironman_list1 = [1,2,3,4,5,6]\n",
    "ironman_list1.extend([8,9])\n",
    "print('將[8,9]中的元素加在list最後---->',list(ironman_list1))\n",
    "ironman_list1 = [1,2,3,4,5,6]\n",
    "ironman_list1.insert(3,8)\n",
    "print('在index 3的位置加入元素8---->',list(ironman_list1))"
   ]
  },
  {
   "cell_type": "code",
   "execution_count": 29,
   "metadata": {},
   "outputs": [
    {
     "name": "stdout",
     "output_type": "stream",
     "text": [
      "中信兄弟\n"
     ]
    }
   ],
   "source": [
    "ironman_dict = {\"team\":\"中信兄弟\",\"year\":\"2017\",\"ranking\":2}\n",
    "print(ironman_dict[\"team\"])"
   ]
  },
  {
   "cell_type": "code",
   "execution_count": 30,
   "metadata": {},
   "outputs": [
    {
     "name": "stdout",
     "output_type": "stream",
     "text": [
      "0,1,2,3,4,"
     ]
    }
   ],
   "source": [
    "ironman_list1 = range(0, 5)\n",
    "for i in ironman_list1:\n",
    "    print(i,end=\",\")"
   ]
  },
  {
   "cell_type": "code",
   "execution_count": 31,
   "metadata": {},
   "outputs": [
    {
     "name": "stdout",
     "output_type": "stream",
     "text": [
      "1*1=1   1*2=2   1*3=3   1*4=4   1*5=5   1*6=6   1*7=7   1*8=8   1*9=9   \n",
      "2*1=2   2*2=4   2*3=6   2*4=8   2*5=10  2*6=12  2*7=14  2*8=16  2*9=18  \n",
      "3*1=3   3*2=6   3*3=9   3*4=12  3*5=15  3*6=18  3*7=21  3*8=24  3*9=27  \n",
      "4*1=4   4*2=8   4*3=12  4*4=16  4*5=20  4*6=24  4*7=28  4*8=32  4*9=36  \n",
      "5*1=5   5*2=10  5*3=15  5*4=20  5*5=25  5*6=30  5*7=35  5*8=40  5*9=45  \n",
      "6*1=6   6*2=12  6*3=18  6*4=24  6*5=30  6*6=36  6*7=42  6*8=48  6*9=54  \n",
      "7*1=7   7*2=14  7*3=21  7*4=28  7*5=35  7*6=42  7*7=49  7*8=56  7*9=63  \n",
      "8*1=8   8*2=16  8*3=24  8*4=32  8*5=40  8*6=48  8*7=56  8*8=64  8*9=72  \n",
      "9*1=9   9*2=18  9*3=27  9*4=36  9*5=45  9*6=54  9*7=63  9*8=72  9*9=81  \n"
     ]
    }
   ],
   "source": [
    "for i in range(1,10):\n",
    "    for j in range(1,10):\n",
    "        product = i * j\n",
    "        print(\"%d*%d=%-2d \" % (i,j, product), end=\" \")\n",
    "    print() #斷行"
   ]
  },
  {
   "cell_type": "code",
   "execution_count": 32,
   "metadata": {},
   "outputs": [
    {
     "name": "stdout",
     "output_type": "stream",
     "text": [
      "1,2,3,4,5,7,8,9,10,"
     ]
    }
   ],
   "source": [
    " for i in range(1,11):\n",
    "     if(i==6):\n",
    "         continue\n",
    "     print(i, end=\",\")"
   ]
  },
  {
   "cell_type": "code",
   "execution_count": 33,
   "metadata": {},
   "outputs": [
    {
     "name": "stdout",
     "output_type": "stream",
     "text": [
      "5是質數!\n"
     ]
    }
   ],
   "source": [
    "n = 5\n",
    "if(n==2):\n",
    "    print(\"2是質數!\")\n",
    "else:\n",
    "    for i in range(2,n):\n",
    "        if(n % i == 0):\n",
    "            print(\"%d 不是質數!\" %n)\n",
    "            break\n",
    "    else:\n",
    "        print(\"%d是質數!\" %n)"
   ]
  },
  {
   "cell_type": "code",
   "execution_count": 34,
   "metadata": {},
   "outputs": [
    {
     "name": "stdout",
     "output_type": "stream",
     "text": [
      "55\n"
     ]
    }
   ],
   "source": [
    "total = n = 0\n",
    "while(n<10):\n",
    "    n += 1\n",
    "    total += n\n",
    "print(total)"
   ]
  },
  {
   "cell_type": "code",
   "execution_count": 41,
   "metadata": {},
   "outputs": [
    {
     "name": "stdout",
     "output_type": "stream",
     "text": [
      "ret1---> 54\n"
     ]
    }
   ],
   "source": [
    "#function\n",
    "def GetArea(height,width):\n",
    "    area = width * height\n",
    "    return area\n",
    "ret1 = GetArea(6,9)\n",
    "print('ret1--->',ret1)"
   ]
  },
  {
   "cell_type": "code",
   "execution_count": 36,
   "metadata": {},
   "outputs": [],
   "source": [
    "#打星號可以引入不定數量的參數：\n",
    "\n",
    "#一個星號會以 tuple 的方式引入\n",
    "#兩個星號會以 dict 的方式引入\n",
    "#可以定義在函數裡，作用是參數個數不定："
   ]
  },
  {
   "cell_type": "code",
   "execution_count": 42,
   "metadata": {},
   "outputs": [],
   "source": [
    "def run_otherFunc(func):\n",
    "    func(7,8)\n",
    "run_otherFunc(GetArea)"
   ]
  },
  {
   "cell_type": "code",
   "execution_count": 43,
   "metadata": {},
   "outputs": [
    {
     "name": "stdout",
     "output_type": "stream",
     "text": [
      "10\n",
      "B\n",
      "(5, 3)\n",
      "33.0\n",
      "0x21\n",
      "22\n",
      "0o41\n",
      "66\n",
      "32\n",
      "23\n",
      "110\n"
     ]
    }
   ],
   "source": [
    "example1 = abs(-10)\n",
    "print(example1)  #取得絕對值 輸出 10\n",
    "example2 = chr(66)\n",
    "print(example2)  #取得整數66的字元 輸出 B\n",
    "example3 = divmod(33,6)\n",
    "print(example3)  #取得33除以6的商數和餘數 輸出 (5, 3)\n",
    "example4 = float(33)\n",
    "print(example4)  #轉成浮點數 輸出 33.0\n",
    "example5 = hex(33)\n",
    "print(example5)  #轉成16進位 輸出 0x21\n",
    "example6 = int(22.79)\n",
    "print(example6)  #轉成整數(無條件捨去) 輸出 22\n",
    "example7 = oct(33)\n",
    "print(example7) #轉成八進位 輸出 0o41\n",
    "example8 = ord(\"B\")\n",
    "print(example8) #取得Unicode編碼 輸出 66\n",
    "example9 = pow(2,5)\n",
    "print(example9) #取得2的5次方 輸出 32\n",
    "example10 = round(22.79)\n",
    "print(example10)  #轉成整數(四捨五入) 輸出 23\n",
    "example11 = sum([11,22,33,44])\n",
    "print(example11)  #取得list的總和 輸出 110"
   ]
  },
  {
   "cell_type": "code",
   "execution_count": 45,
   "metadata": {},
   "outputs": [],
   "source": [
    "import os\n",
    "path = \"myDir\"\n",
    "os.mkdir(path) # 建立目錄"
   ]
  },
  {
   "cell_type": "code",
   "execution_count": 46,
   "metadata": {},
   "outputs": [
    {
     "data": {
      "text/plain": [
       "0"
      ]
     },
     "execution_count": 46,
     "metadata": {},
     "output_type": "execute_result"
    }
   ],
   "source": [
    "os.system(\"mkdir dir2\") #執行作業系統命令"
   ]
  },
  {
   "cell_type": "code",
   "execution_count": 48,
   "metadata": {},
   "outputs": [],
   "source": [
    "os.rmdir('dir2') # 移除目錄"
   ]
  },
  {
   "cell_type": "code",
   "execution_count": 49,
   "metadata": {},
   "outputs": [],
   "source": [
    "content = '''Python first   \n",
    "測試中文\n",
    "第三行\n",
    "'''  # '''...'''  保留原本的格式\n",
    "f = open('firstFile.txt','wt') # 寫入模式，檔案如果已經存在會被覆蓋\n",
    "f.write(content)\n",
    "f.close()"
   ]
  },
  {
   "cell_type": "code",
   "execution_count": 53,
   "metadata": {},
   "outputs": [
    {
     "name": "stdout",
     "output_type": "stream",
     "text": [
      "/bin/sh: -c: line 0: syntax error near unexpected token `firstFile.txt'\r\n",
      "/bin/sh: -c: line 0: `rm (firstFile.txt)'\r\n"
     ]
    }
   ],
   "source": [
    "rm(firstFile.txt)"
   ]
  },
  {
   "cell_type": "code",
   "execution_count": 54,
   "metadata": {},
   "outputs": [
    {
     "name": "stdout",
     "output_type": "stream",
     "text": [
      "Python first   \n",
      "測試中文\n",
      "第三行\n"
     ]
    }
   ],
   "source": [
    "f2 = open('firstFile.txt','r') # 讀取模式\n",
    "for line in f2:\n",
    "    print(line, end=\"\")\n",
    "f2.close()"
   ]
  },
  {
   "cell_type": "code",
   "execution_count": 55,
   "metadata": {},
   "outputs": [],
   "source": [
    "import csv\n",
    "with open('day06-csv.csv', 'w', newline='') as csvfile:\n",
    "    writer = csv.writer(csvfile) # 建立 CSV 檔寫入器\n",
    "    writer.writerow(['股票', '收盤價', '單量'])\n",
    "    writer.writerow(['台積電', 238, 23])\n",
    "    writer.writerow(['大同', 40, 121])\n",
    "    writer.writerow(['華新科', 174, 105])"
   ]
  },
  {
   "cell_type": "code",
   "execution_count": 56,
   "metadata": {},
   "outputs": [
    {
     "name": "stdout",
     "output_type": "stream",
     "text": [
      "['股票', '收盤價', '單量']\n",
      "['台積電', '238', '23']\n",
      "['大同', '40', '121']\n",
      "['華新科', '174', '105']\n"
     ]
    }
   ],
   "source": [
    "# ---------------------------------------------------------- read\n",
    "\n",
    "with open('day06-csv.csv', newline='') as csvfile:\n",
    "\n",
    "  rows = csv.reader(csvfile)  # 讀取 CSV 檔案內容\n",
    "  for row in rows:  # 以迴圈輸出每一列\n",
    "    print(row)\n",
    "    "
   ]
  },
  {
   "cell_type": "code",
   "execution_count": 57,
   "metadata": {},
   "outputs": [
    {
     "name": "stdout",
     "output_type": "stream",
     "text": [
      "ironman_zeros----> [0 0 0 0 0 0 0 0 0 0]\n",
      "ironman_ones----> [[1. 1. 1. 1. 1.]\n",
      " [1. 1. 1. 1. 1.]\n",
      " [1. 1. 1. 1. 1.]]\n",
      "ironman_empty----> [[2.12199579e-314 0.00000000e+000]\n",
      " [0.00000000e+000 0.00000000e+000]\n",
      " [1.75871011e-310 3.50977866e+064]]\n",
      "ironman_full----> [[2.2 2.2]\n",
      " [2.2 2.2]\n",
      " [2.2 2.2]\n",
      " [2.2 2.2]]\n"
     ]
    }
   ],
   "source": [
    "import numpy as np\n",
    "ironman_zeros = np.zeros(10, dtype=int) #建立一個內容為0 長度為10的整數陣列\n",
    "ironman_ones = np.ones((3,5) ,dtype=float)  #建立一個內容為1 3x5 的浮點數陣列\n",
    "ironman_empty = np.empty((3,2) )  #建立一個內容為1 3x2 的無初始值陣列\n",
    "ironman_full = np.full((4,2), 2.2) #建立一個內容為2.2 4x2 的浮點數陣列\n",
    "\n",
    "print('ironman_zeros---->', ironman_zeros)\n",
    "print('ironman_ones---->', ironman_ones)\n",
    "print('ironman_empty---->', ironman_empty)\n",
    "print('ironman_full---->', ironman_full)"
   ]
  },
  {
   "cell_type": "code",
   "execution_count": 58,
   "metadata": {},
   "outputs": [
    {
     "name": "stdout",
     "output_type": "stream",
     "text": [
      "ironman_arange----> [ 0  2  4  6  8 10 12 14 16 18]\n",
      "ironman_linspace----> [0.   0.25 0.5  0.75 1.  ]\n"
     ]
    }
   ],
   "source": [
    "ironman_arange = np.arange(0,20,2) #建立一個依序填滿的陣列 0到20間隔為2\n",
    "ironman_linspace = np.linspace(0,1,5) #建立一個5個值的陣列，在0到1間平均分布\n",
    "\n",
    "print('ironman_arange---->', ironman_arange)\n",
    "print('ironman_linspace---->', ironman_linspace)"
   ]
  },
  {
   "cell_type": "code",
   "execution_count": 59,
   "metadata": {},
   "outputs": [
    {
     "name": "stdout",
     "output_type": "stream",
     "text": [
      "ironman_random----> [[0.15323665 0.62585663 0.21897521]\n",
      " [0.87555748 0.76940202 0.96782493]\n",
      " [0.53949768 0.27563736 0.74606555]]\n",
      "ironman_ranf----> [0.34078975 0.97034843 0.15761425 0.02245851 0.88308331]\n",
      "ironman_sample----> [[0.51265422 0.03541807 0.58503316]\n",
      " [0.52563636 0.54274962 0.2627431 ]]\n"
     ]
    }
   ],
   "source": [
    "ironman_random = np.random.random((3,3)) #建立一個3*3 陣列，在0到1間亂數值\n",
    "ironman_ranf = np.random.ranf((5)) #建立一個5 陣列，在0到1間亂數值\n",
    "ironman_sample = np.random.sample((2,3)) #建立一個2*3 陣列，在0到1間亂數值\n",
    "\n",
    "print('ironman_random---->', ironman_random)\n",
    "print('ironman_ranf---->', ironman_ranf)\n",
    "print('ironman_sample---->', ironman_sample)"
   ]
  },
  {
   "cell_type": "code",
   "execution_count": 61,
   "metadata": {},
   "outputs": [
    {
     "name": "stdout",
     "output_type": "stream",
     "text": [
      "ironman_normal----> [[ 0.13788675  1.30009593 -1.6366529 ]\n",
      " [ 0.72833214  0.09182368  0.82422659]\n",
      " [-1.66774223 -0.0144093   0.60306641]]\n"
     ]
    }
   ],
   "source": [
    "ironman_normal = np.random.normal(0,1,(3,3)) #建立一個3*3陣列，內容為常態分佈的亂數值 平均0，標準差1\n",
    "print('ironman_normal---->', ironman_normal)"
   ]
  },
  {
   "cell_type": "code",
   "execution_count": 1,
   "metadata": {},
   "outputs": [
    {
     "data": {
      "text/plain": [
       "0    0.11\n",
       "1    0.22\n",
       "2    0.33\n",
       "3    0.44\n",
       "dtype: float64"
      ]
     },
     "execution_count": 1,
     "metadata": {},
     "output_type": "execute_result"
    }
   ],
   "source": [
    "import numpy as np\n",
    "import pandas as pd\n",
    "ironman = pd.Series([0.11,0.22,0.33,0.44])\n",
    "ironman"
   ]
  },
  {
   "cell_type": "code",
   "execution_count": 2,
   "metadata": {},
   "outputs": [
    {
     "name": "stdout",
     "output_type": "stream",
     "text": [
      "ironman.values-------> [0.11 0.22 0.33 0.44]\n",
      "ironman.index-------> RangeIndex(start=0, stop=4, step=1)\n"
     ]
    }
   ],
   "source": [
    "print('ironman.values------->',ironman.values)\n",
    "print('ironman.index------->',ironman.index)"
   ]
  },
  {
   "cell_type": "code",
   "execution_count": 3,
   "metadata": {},
   "outputs": [
    {
     "data": {
      "text/plain": [
       "a    0.11\n",
       "b    0.22\n",
       "c    0.33\n",
       "d    0.44\n",
       "dtype: float64"
      ]
     },
     "execution_count": 3,
     "metadata": {},
     "output_type": "execute_result"
    }
   ],
   "source": [
    "ironman = pd.Series([0.11,0.22,0.33,0.44], index=['a','b','c','d'])\n",
    "ironman"
   ]
  },
  {
   "cell_type": "code",
   "execution_count": 4,
   "metadata": {},
   "outputs": [
    {
     "data": {
      "text/plain": [
       "a    11\n",
       "b    22\n",
       "c    33\n",
       "dtype: int64"
      ]
     },
     "execution_count": 4,
     "metadata": {},
     "output_type": "execute_result"
    }
   ],
   "source": [
    "dic_ironman = {\n",
    "    'a': 11,\n",
    "    'b': 22,\n",
    "    'c': 33\n",
    "}\n",
    "ironman = pd.Series(dic_ironman)\n",
    "ironman\n"
   ]
  },
  {
   "cell_type": "code",
   "execution_count": 5,
   "metadata": {},
   "outputs": [
    {
     "data": {
      "text/html": [
       "<div>\n",
       "<style scoped>\n",
       "    .dataframe tbody tr th:only-of-type {\n",
       "        vertical-align: middle;\n",
       "    }\n",
       "\n",
       "    .dataframe tbody tr th {\n",
       "        vertical-align: top;\n",
       "    }\n",
       "\n",
       "    .dataframe thead th {\n",
       "        text-align: right;\n",
       "    }\n",
       "</style>\n",
       "<table border=\"1\" class=\"dataframe\">\n",
       "  <thead>\n",
       "    <tr style=\"text-align: right;\">\n",
       "      <th></th>\n",
       "      <th>number</th>\n",
       "      <th>mayor</th>\n",
       "    </tr>\n",
       "  </thead>\n",
       "  <tbody>\n",
       "    <tr>\n",
       "      <th>taipei</th>\n",
       "      <td>200</td>\n",
       "      <td>Kui</td>\n",
       "    </tr>\n",
       "    <tr>\n",
       "      <th>taichung</th>\n",
       "      <td>300</td>\n",
       "      <td>Ha</td>\n",
       "    </tr>\n",
       "    <tr>\n",
       "      <th>changhua</th>\n",
       "      <td>400</td>\n",
       "      <td>Chin</td>\n",
       "    </tr>\n",
       "    <tr>\n",
       "      <th>kaohsiung</th>\n",
       "      <td>150</td>\n",
       "      <td>Lui</td>\n",
       "    </tr>\n",
       "  </tbody>\n",
       "</table>\n",
       "</div>"
      ],
      "text/plain": [
       "           number mayor\n",
       "taipei        200   Kui\n",
       "taichung      300    Ha\n",
       "changhua      400  Chin\n",
       "kaohsiung     150   Lui"
      ]
     },
     "execution_count": 5,
     "metadata": {},
     "output_type": "execute_result"
    }
   ],
   "source": [
    "number = pd.Series({'taipei':200, 'taichung': 300, 'changhua': 400, 'kaohsiung' : 150})\n",
    "mayor = pd.Series({'taipei': 'Kui', 'taichung': 'Ha', 'changhua': 'Chin', 'kaohsiung' : 'Lui'})\n",
    "ironman_df = pd.DataFrame({'number':number, 'mayor':mayor})\n",
    "ironman_df"
   ]
  },
  {
   "cell_type": "code",
   "execution_count": 6,
   "metadata": {},
   "outputs": [
    {
     "name": "stdout",
     "output_type": "stream",
     "text": [
      "ironman_df.values-------> [[200 'Kui']\n",
      " [300 'Ha']\n",
      " [400 'Chin']\n",
      " [150 'Lui']]\n",
      "ironman_df.index-------> Index(['taipei', 'taichung', 'changhua', 'kaohsiung'], dtype='object')\n",
      "ironman_df.columns-------> Index(['number', 'mayor'], dtype='object')\n"
     ]
    }
   ],
   "source": [
    "print('ironman_df.values------->',ironman_df.values)\n",
    "print('ironman_df.index------->',ironman_df.index)\n",
    "print('ironman_df.columns------->',ironman_df.columns)"
   ]
  },
  {
   "cell_type": "code",
   "execution_count": 7,
   "metadata": {},
   "outputs": [
    {
     "data": {
      "text/html": [
       "<div>\n",
       "<style scoped>\n",
       "    .dataframe tbody tr th:only-of-type {\n",
       "        vertical-align: middle;\n",
       "    }\n",
       "\n",
       "    .dataframe tbody tr th {\n",
       "        vertical-align: top;\n",
       "    }\n",
       "\n",
       "    .dataframe thead th {\n",
       "        text-align: right;\n",
       "    }\n",
       "</style>\n",
       "<table border=\"1\" class=\"dataframe\">\n",
       "  <thead>\n",
       "    <tr style=\"text-align: right;\">\n",
       "      <th></th>\n",
       "      <th>number</th>\n",
       "    </tr>\n",
       "  </thead>\n",
       "  <tbody>\n",
       "    <tr>\n",
       "      <th>changhua</th>\n",
       "      <td>400</td>\n",
       "    </tr>\n",
       "    <tr>\n",
       "      <th>kaohsiung</th>\n",
       "      <td>150</td>\n",
       "    </tr>\n",
       "    <tr>\n",
       "      <th>taichung</th>\n",
       "      <td>300</td>\n",
       "    </tr>\n",
       "    <tr>\n",
       "      <th>taipei</th>\n",
       "      <td>200</td>\n",
       "    </tr>\n",
       "  </tbody>\n",
       "</table>\n",
       "</div>"
      ],
      "text/plain": [
       "           number\n",
       "changhua      400\n",
       "kaohsiung     150\n",
       "taichung      300\n",
       "taipei        200"
      ]
     },
     "execution_count": 7,
     "metadata": {},
     "output_type": "execute_result"
    }
   ],
   "source": [
    "pd.DataFrame(number, columns=['number']) #從單一Series\n",
    "pd.DataFrame({'number':{'taipei':200, 'taichung': 300, 'changhua': 400, 'kaohsiung' : 150}}) #從dict建立"
   ]
  },
  {
   "cell_type": "code",
   "execution_count": 9,
   "metadata": {},
   "outputs": [
    {
     "data": {
      "text/html": [
       "<div>\n",
       "<style scoped>\n",
       "    .dataframe tbody tr th:only-of-type {\n",
       "        vertical-align: middle;\n",
       "    }\n",
       "\n",
       "    .dataframe tbody tr th {\n",
       "        vertical-align: top;\n",
       "    }\n",
       "\n",
       "    .dataframe thead th {\n",
       "        text-align: right;\n",
       "    }\n",
       "</style>\n",
       "<table border=\"1\" class=\"dataframe\">\n",
       "  <thead>\n",
       "    <tr style=\"text-align: right;\">\n",
       "      <th></th>\n",
       "      <th>name</th>\n",
       "      <th>number</th>\n",
       "      <th>team</th>\n",
       "    </tr>\n",
       "  </thead>\n",
       "  <tbody>\n",
       "    <tr>\n",
       "      <th>0</th>\n",
       "      <td>彭政閔</td>\n",
       "      <td>23</td>\n",
       "      <td>兄弟象</td>\n",
       "    </tr>\n",
       "    <tr>\n",
       "      <th>1</th>\n",
       "      <td>林智勝</td>\n",
       "      <td>32</td>\n",
       "      <td>兄弟象</td>\n",
       "    </tr>\n",
       "    <tr>\n",
       "      <th>2</th>\n",
       "      <td>蘇偉達</td>\n",
       "      <td>96</td>\n",
       "      <td>兄弟象</td>\n",
       "    </tr>\n",
       "    <tr>\n",
       "      <th>3</th>\n",
       "      <td>陽耀勳</td>\n",
       "      <td>23</td>\n",
       "      <td>lamigo</td>\n",
       "    </tr>\n",
       "  </tbody>\n",
       "</table>\n",
       "</div>"
      ],
      "text/plain": [
       "  name  number    team\n",
       "0  彭政閔      23     兄弟象\n",
       "1  林智勝      32     兄弟象\n",
       "2  蘇偉達      96     兄弟象\n",
       "3  陽耀勳      23  lamigo"
      ]
     },
     "execution_count": 9,
     "metadata": {},
     "output_type": "execute_result"
    }
   ],
   "source": [
    "team =np.zeros(4, dtype={'names':('name','number','team'),'formats':('U10','i2','U10')})\n",
    "team['name'] =['彭政閔','林智勝','蘇偉達','陽耀勳']\n",
    "team['number'] = [23,32,96,23]\n",
    "team['team'] = ['兄弟象','兄弟象','兄弟象','lamigo']\n",
    "pd.DataFrame(team)"
   ]
  },
  {
   "cell_type": "code",
   "execution_count": null,
   "metadata": {},
   "outputs": [],
   "source": []
  }
 ],
 "metadata": {
  "kernelspec": {
   "display_name": "Python 3",
   "language": "python",
   "name": "python3"
  },
  "language_info": {
   "codemirror_mode": {
    "name": "ipython",
    "version": 3
   },
   "file_extension": ".py",
   "mimetype": "text/x-python",
   "name": "python",
   "nbconvert_exporter": "python",
   "pygments_lexer": "ipython3",
   "version": "3.7.1"
  }
 },
 "nbformat": 4,
 "nbformat_minor": 2
}
